{
 "cells": [
  {
   "cell_type": "code",
   "execution_count": 2,
   "id": "85b94704",
   "metadata": {},
   "outputs": [],
   "source": [
    "import pandas as pd\n",
    "import numpy as np\n",
    "from numpy import unique\n",
    "from numpy import where\n",
    "from matplotlib import pyplot as plt\n",
    "from sklearn.cluster import KMeans\n",
    "from sklearn.decomposition import PCA\n",
    "from sklearn.mixture import GaussianMixture\n",
    "from yellowbrick.cluster import KElbowVisualizer\n",
    "from sklearn.cluster import AgglomerativeClustering\n"
   ]
  },
  {
   "cell_type": "code",
   "execution_count": 3,
   "id": "7d85d63f",
   "metadata": {},
   "outputs": [],
   "source": [
    "import warnings\n",
    "warnings.filterwarnings('ignore')"
   ]
  },
  {
   "cell_type": "code",
   "execution_count": 4,
   "id": "d3fc8d94",
   "metadata": {},
   "outputs": [],
   "source": [
    "import pickle"
   ]
  },
  {
   "cell_type": "markdown",
   "id": "850eb667",
   "metadata": {},
   "source": [
    "## Import data"
   ]
  },
  {
   "cell_type": "code",
   "execution_count": 5,
   "id": "09a34ee1",
   "metadata": {},
   "outputs": [],
   "source": [
    "data = pd.read_excel(\"../Dataset.xlsx\")"
   ]
  },
  {
   "cell_type": "code",
   "execution_count": 6,
   "id": "7ebfb405",
   "metadata": {},
   "outputs": [
    {
     "data": {
      "text/html": [
       "<div>\n",
       "<style scoped>\n",
       "    .dataframe tbody tr th:only-of-type {\n",
       "        vertical-align: middle;\n",
       "    }\n",
       "\n",
       "    .dataframe tbody tr th {\n",
       "        vertical-align: top;\n",
       "    }\n",
       "\n",
       "    .dataframe thead th {\n",
       "        text-align: right;\n",
       "    }\n",
       "</style>\n",
       "<table border=\"1\" class=\"dataframe\">\n",
       "  <thead>\n",
       "    <tr style=\"text-align: right;\">\n",
       "      <th></th>\n",
       "      <th>Values</th>\n",
       "      <th>Activities</th>\n",
       "      <th>Category</th>\n",
       "      <th>Level of difficulty</th>\n",
       "      <th>Related mood</th>\n",
       "    </tr>\n",
       "  </thead>\n",
       "  <tbody>\n",
       "    <tr>\n",
       "      <th>0</th>\n",
       "      <td>Citizenship/Community</td>\n",
       "      <td>Upcycling/Recycling old items</td>\n",
       "      <td>Valued activity</td>\n",
       "      <td>Easy</td>\n",
       "      <td>Lonely</td>\n",
       "    </tr>\n",
       "    <tr>\n",
       "      <th>1</th>\n",
       "      <td>Citizenship/Community</td>\n",
       "      <td>Participate in communal activities</td>\n",
       "      <td>Pleasure</td>\n",
       "      <td>Medium</td>\n",
       "      <td>Disconnected</td>\n",
       "    </tr>\n",
       "    <tr>\n",
       "      <th>2</th>\n",
       "      <td>Citizenship/Community</td>\n",
       "      <td>Making donations</td>\n",
       "      <td>Valued activity</td>\n",
       "      <td>Hard</td>\n",
       "      <td>Stressed</td>\n",
       "    </tr>\n",
       "    <tr>\n",
       "      <th>3</th>\n",
       "      <td>Citizenship/Community</td>\n",
       "      <td>Volunteering for a cause you support</td>\n",
       "      <td>Valued activity</td>\n",
       "      <td>Medium</td>\n",
       "      <td>Disconnected</td>\n",
       "    </tr>\n",
       "    <tr>\n",
       "      <th>4</th>\n",
       "      <td>Citizenship/Community</td>\n",
       "      <td>Donating old clothes or items to charity</td>\n",
       "      <td>Valued activity</td>\n",
       "      <td>Easy</td>\n",
       "      <td>Depressed</td>\n",
       "    </tr>\n",
       "  </tbody>\n",
       "</table>\n",
       "</div>"
      ],
      "text/plain": [
       "                  Values                                Activities  \\\n",
       "0  Citizenship/Community             Upcycling/Recycling old items   \n",
       "1  Citizenship/Community        Participate in communal activities   \n",
       "2  Citizenship/Community                          Making donations   \n",
       "3  Citizenship/Community      Volunteering for a cause you support   \n",
       "4  Citizenship/Community  Donating old clothes or items to charity   \n",
       "\n",
       "          Category Level of difficulty Related mood   \n",
       "0  Valued activity                Easy        Lonely  \n",
       "1         Pleasure              Medium  Disconnected  \n",
       "2  Valued activity                Hard      Stressed  \n",
       "3  Valued activity              Medium  Disconnected  \n",
       "4  Valued activity                Easy     Depressed  "
      ]
     },
     "execution_count": 6,
     "metadata": {},
     "output_type": "execute_result"
    }
   ],
   "source": [
    "data.head(5) #visualizing top 5 rows of the dataset"
   ]
  },
  {
   "cell_type": "markdown",
   "id": "dd8382ff",
   "metadata": {},
   "source": [
    "#### unique values"
   ]
  },
  {
   "cell_type": "code",
   "execution_count": 7,
   "id": "76d2a521",
   "metadata": {},
   "outputs": [
    {
     "data": {
      "text/plain": [
       "array(['Easy', 'Medium', 'Hard', 'Very hard'], dtype=object)"
      ]
     },
     "execution_count": 7,
     "metadata": {},
     "output_type": "execute_result"
    }
   ],
   "source": [
    "data[\"Level of difficulty\"].unique()"
   ]
  },
  {
   "cell_type": "code",
   "execution_count": 8,
   "id": "62b2ec6d",
   "metadata": {},
   "outputs": [
    {
     "data": {
      "text/plain": [
       "array(['Valued activity', 'Pleasure', 'Mastery'], dtype=object)"
      ]
     },
     "execution_count": 8,
     "metadata": {},
     "output_type": "execute_result"
    }
   ],
   "source": [
    "data[\"Category\"].unique()"
   ]
  },
  {
   "cell_type": "code",
   "execution_count": 9,
   "id": "9f6d8808",
   "metadata": {},
   "outputs": [
    {
     "data": {
      "text/plain": [
       "array(['Lonely', 'Disconnected', 'Stressed', 'Depressed', 'Sluggish',\n",
       "       'Uncreative', 'Feeling stuck', 'Anxious', 'Isolated', 'Burned-out',\n",
       "       'Exhausted', 'Bored', 'Unproductive', 'Uncreative ', 'Self-doubt',\n",
       "       'feeling stuck', 'Tired', 'Over-worked', 'Self-neglect',\n",
       "       'Out-of-control', 'Drained', 'Unhealthy', 'Procrastination',\n",
       "       'Hopeless'], dtype=object)"
      ]
     },
     "execution_count": 9,
     "metadata": {},
     "output_type": "execute_result"
    }
   ],
   "source": [
    "data['Related mood '].unique()"
   ]
  },
  {
   "cell_type": "code",
   "execution_count": 10,
   "id": "eeb5c3fb",
   "metadata": {},
   "outputs": [
    {
     "data": {
      "text/plain": [
       "array(['Citizenship/Community', 'Employment', 'Family Relations',\n",
       "       'Friendship/Social Relations', 'Hobbies',\n",
       "       'Mental/Emotional Health', 'Personal Growth/Education',\n",
       "       'Physical wellbeing', 'Spirituality', 'Self-care'], dtype=object)"
      ]
     },
     "execution_count": 10,
     "metadata": {},
     "output_type": "execute_result"
    }
   ],
   "source": [
    "data[\"Values\"].unique()"
   ]
  },
  {
   "cell_type": "markdown",
   "id": "010667dd",
   "metadata": {},
   "source": [
    "## Data pre-processing\n"
   ]
  },
  {
   "cell_type": "code",
   "execution_count": 11,
   "id": "a07c22ab",
   "metadata": {},
   "outputs": [],
   "source": [
    "data.rename(columns={'Values':'values', \"Activities\":'activities', 'Category':'category', 'Level of difficulty':'level_of_difficulty', 'Related mood ':'related_mood'}, inplace=True)\n",
    "#renaming columns"
   ]
  },
  {
   "cell_type": "code",
   "execution_count": 12,
   "id": "ce2c3623",
   "metadata": {},
   "outputs": [
    {
     "data": {
      "text/html": [
       "<div>\n",
       "<style scoped>\n",
       "    .dataframe tbody tr th:only-of-type {\n",
       "        vertical-align: middle;\n",
       "    }\n",
       "\n",
       "    .dataframe tbody tr th {\n",
       "        vertical-align: top;\n",
       "    }\n",
       "\n",
       "    .dataframe thead th {\n",
       "        text-align: right;\n",
       "    }\n",
       "</style>\n",
       "<table border=\"1\" class=\"dataframe\">\n",
       "  <thead>\n",
       "    <tr style=\"text-align: right;\">\n",
       "      <th></th>\n",
       "      <th>values</th>\n",
       "      <th>activities</th>\n",
       "      <th>category</th>\n",
       "      <th>level_of_difficulty</th>\n",
       "      <th>related_mood</th>\n",
       "    </tr>\n",
       "  </thead>\n",
       "  <tbody>\n",
       "    <tr>\n",
       "      <th>0</th>\n",
       "      <td>Citizenship/Community</td>\n",
       "      <td>Upcycling/Recycling old items</td>\n",
       "      <td>Valued activity</td>\n",
       "      <td>Easy</td>\n",
       "      <td>Lonely</td>\n",
       "    </tr>\n",
       "    <tr>\n",
       "      <th>1</th>\n",
       "      <td>Citizenship/Community</td>\n",
       "      <td>Participate in communal activities</td>\n",
       "      <td>Pleasure</td>\n",
       "      <td>Medium</td>\n",
       "      <td>Disconnected</td>\n",
       "    </tr>\n",
       "    <tr>\n",
       "      <th>2</th>\n",
       "      <td>Citizenship/Community</td>\n",
       "      <td>Making donations</td>\n",
       "      <td>Valued activity</td>\n",
       "      <td>Hard</td>\n",
       "      <td>Stressed</td>\n",
       "    </tr>\n",
       "    <tr>\n",
       "      <th>3</th>\n",
       "      <td>Citizenship/Community</td>\n",
       "      <td>Volunteering for a cause you support</td>\n",
       "      <td>Valued activity</td>\n",
       "      <td>Medium</td>\n",
       "      <td>Disconnected</td>\n",
       "    </tr>\n",
       "    <tr>\n",
       "      <th>4</th>\n",
       "      <td>Citizenship/Community</td>\n",
       "      <td>Donating old clothes or items to charity</td>\n",
       "      <td>Valued activity</td>\n",
       "      <td>Easy</td>\n",
       "      <td>Depressed</td>\n",
       "    </tr>\n",
       "  </tbody>\n",
       "</table>\n",
       "</div>"
      ],
      "text/plain": [
       "                  values                                activities  \\\n",
       "0  Citizenship/Community             Upcycling/Recycling old items   \n",
       "1  Citizenship/Community        Participate in communal activities   \n",
       "2  Citizenship/Community                          Making donations   \n",
       "3  Citizenship/Community      Volunteering for a cause you support   \n",
       "4  Citizenship/Community  Donating old clothes or items to charity   \n",
       "\n",
       "          category level_of_difficulty  related_mood  \n",
       "0  Valued activity                Easy        Lonely  \n",
       "1         Pleasure              Medium  Disconnected  \n",
       "2  Valued activity                Hard      Stressed  \n",
       "3  Valued activity              Medium  Disconnected  \n",
       "4  Valued activity                Easy     Depressed  "
      ]
     },
     "execution_count": 12,
     "metadata": {},
     "output_type": "execute_result"
    }
   ],
   "source": [
    "data.head()"
   ]
  },
  {
   "cell_type": "markdown",
   "id": "66f891fa",
   "metadata": {},
   "source": [
    "##### Converting input variables to categorical type "
   ]
  },
  {
   "cell_type": "code",
   "execution_count": 13,
   "id": "3185c7a5",
   "metadata": {},
   "outputs": [],
   "source": [
    "col =['values', 'category', 'level_of_difficulty', 'related_mood']  "
   ]
  },
  {
   "cell_type": "code",
   "execution_count": 14,
   "id": "e6d56374",
   "metadata": {},
   "outputs": [],
   "source": [
    "from sklearn.preprocessing import LabelEncoder"
   ]
  },
  {
   "cell_type": "code",
   "execution_count": 15,
   "id": "f66976b2",
   "metadata": {},
   "outputs": [
    {
     "data": {
      "text/plain": [
       "array([0, 1, 2, 3, 4, 5, 6, 7, 9, 8])"
      ]
     },
     "execution_count": 15,
     "metadata": {},
     "output_type": "execute_result"
    }
   ],
   "source": [
    "le_values = LabelEncoder()\n",
    "data['values'] = le_values.fit_transform(data['values'])\n",
    "data['values'].unique()"
   ]
  },
  {
   "cell_type": "code",
   "execution_count": 16,
   "id": "dfae7bf4",
   "metadata": {},
   "outputs": [
    {
     "data": {
      "text/plain": [
       "array([2, 1, 0])"
      ]
     },
     "execution_count": 16,
     "metadata": {},
     "output_type": "execute_result"
    }
   ],
   "source": [
    "le_cat = LabelEncoder()\n",
    "data['category'] = le_cat.fit_transform(data['category'])\n",
    "data['category'].unique()"
   ]
  },
  {
   "cell_type": "code",
   "execution_count": 17,
   "id": "ff01d866",
   "metadata": {},
   "outputs": [
    {
     "data": {
      "text/plain": [
       "array([0, 2, 1, 3])"
      ]
     },
     "execution_count": 17,
     "metadata": {},
     "output_type": "execute_result"
    }
   ],
   "source": [
    "le_lod = LabelEncoder()\n",
    "data['level_of_difficulty'] = le_lod.fit_transform(data['level_of_difficulty'])\n",
    "data['level_of_difficulty'].unique()"
   ]
  },
  {
   "cell_type": "code",
   "execution_count": 18,
   "id": "6794d766",
   "metadata": {},
   "outputs": [
    {
     "data": {
      "text/plain": [
       "array([10,  4, 17,  3, 16, 19,  7,  0,  9,  2,  6,  1, 22, 20, 14, 23, 18,\n",
       "       12, 15, 11,  5, 21, 13,  8])"
      ]
     },
     "execution_count": 18,
     "metadata": {},
     "output_type": "execute_result"
    }
   ],
   "source": [
    "le_rm = LabelEncoder()\n",
    "data['related_mood'] = le_rm.fit_transform(data['related_mood'])\n",
    "data['related_mood'].unique()"
   ]
  },
  {
   "cell_type": "code",
   "execution_count": 19,
   "id": "0d360e0a",
   "metadata": {},
   "outputs": [
    {
     "data": {
      "text/html": [
       "<div>\n",
       "<style scoped>\n",
       "    .dataframe tbody tr th:only-of-type {\n",
       "        vertical-align: middle;\n",
       "    }\n",
       "\n",
       "    .dataframe tbody tr th {\n",
       "        vertical-align: top;\n",
       "    }\n",
       "\n",
       "    .dataframe thead th {\n",
       "        text-align: right;\n",
       "    }\n",
       "</style>\n",
       "<table border=\"1\" class=\"dataframe\">\n",
       "  <thead>\n",
       "    <tr style=\"text-align: right;\">\n",
       "      <th></th>\n",
       "      <th>values</th>\n",
       "      <th>activities</th>\n",
       "      <th>category</th>\n",
       "      <th>level_of_difficulty</th>\n",
       "      <th>related_mood</th>\n",
       "    </tr>\n",
       "  </thead>\n",
       "  <tbody>\n",
       "    <tr>\n",
       "      <th>36</th>\n",
       "      <td>3</td>\n",
       "      <td>Planning a nice surprise for someone else</td>\n",
       "      <td>2</td>\n",
       "      <td>2</td>\n",
       "      <td>4</td>\n",
       "    </tr>\n",
       "    <tr>\n",
       "      <th>66</th>\n",
       "      <td>4</td>\n",
       "      <td>Calligraphy</td>\n",
       "      <td>0</td>\n",
       "      <td>1</td>\n",
       "      <td>19</td>\n",
       "    </tr>\n",
       "    <tr>\n",
       "      <th>93</th>\n",
       "      <td>5</td>\n",
       "      <td>Bringing fresh flowers into the house</td>\n",
       "      <td>1</td>\n",
       "      <td>0</td>\n",
       "      <td>7</td>\n",
       "    </tr>\n",
       "    <tr>\n",
       "      <th>88</th>\n",
       "      <td>5</td>\n",
       "      <td>Reflecting on achievements</td>\n",
       "      <td>2</td>\n",
       "      <td>0</td>\n",
       "      <td>14</td>\n",
       "    </tr>\n",
       "    <tr>\n",
       "      <th>2</th>\n",
       "      <td>0</td>\n",
       "      <td>Making donations</td>\n",
       "      <td>2</td>\n",
       "      <td>1</td>\n",
       "      <td>17</td>\n",
       "    </tr>\n",
       "  </tbody>\n",
       "</table>\n",
       "</div>"
      ],
      "text/plain": [
       "    values                                 activities  category  \\\n",
       "36       3  Planning a nice surprise for someone else         2   \n",
       "66       4                                Calligraphy         0   \n",
       "93       5      Bringing fresh flowers into the house         1   \n",
       "88       5                 Reflecting on achievements         2   \n",
       "2        0                           Making donations         2   \n",
       "\n",
       "    level_of_difficulty  related_mood  \n",
       "36                    2             4  \n",
       "66                    1            19  \n",
       "93                    0             7  \n",
       "88                    0            14  \n",
       "2                     1            17  "
      ]
     },
     "execution_count": 19,
     "metadata": {},
     "output_type": "execute_result"
    }
   ],
   "source": [
    "data.sample(5)"
   ]
  },
  {
   "cell_type": "markdown",
   "id": "75f8eed6",
   "metadata": {},
   "source": [
    "##### Dividing the dataset into input variables and an output variable"
   ]
  },
  {
   "cell_type": "code",
   "execution_count": 20,
   "id": "9e3e9cbe",
   "metadata": {},
   "outputs": [],
   "source": [
    "X = data.drop(columns='activities')\n",
    "y = data['activities']"
   ]
  },
  {
   "cell_type": "code",
   "execution_count": 21,
   "id": "f9e0d64c",
   "metadata": {},
   "outputs": [
    {
     "data": {
      "text/html": [
       "<div>\n",
       "<style scoped>\n",
       "    .dataframe tbody tr th:only-of-type {\n",
       "        vertical-align: middle;\n",
       "    }\n",
       "\n",
       "    .dataframe tbody tr th {\n",
       "        vertical-align: top;\n",
       "    }\n",
       "\n",
       "    .dataframe thead th {\n",
       "        text-align: right;\n",
       "    }\n",
       "</style>\n",
       "<table border=\"1\" class=\"dataframe\">\n",
       "  <thead>\n",
       "    <tr style=\"text-align: right;\">\n",
       "      <th></th>\n",
       "      <th>values</th>\n",
       "      <th>category</th>\n",
       "      <th>level_of_difficulty</th>\n",
       "      <th>related_mood</th>\n",
       "    </tr>\n",
       "  </thead>\n",
       "  <tbody>\n",
       "    <tr>\n",
       "      <th>0</th>\n",
       "      <td>0</td>\n",
       "      <td>2</td>\n",
       "      <td>0</td>\n",
       "      <td>10</td>\n",
       "    </tr>\n",
       "    <tr>\n",
       "      <th>1</th>\n",
       "      <td>0</td>\n",
       "      <td>1</td>\n",
       "      <td>2</td>\n",
       "      <td>4</td>\n",
       "    </tr>\n",
       "    <tr>\n",
       "      <th>2</th>\n",
       "      <td>0</td>\n",
       "      <td>2</td>\n",
       "      <td>1</td>\n",
       "      <td>17</td>\n",
       "    </tr>\n",
       "    <tr>\n",
       "      <th>3</th>\n",
       "      <td>0</td>\n",
       "      <td>2</td>\n",
       "      <td>2</td>\n",
       "      <td>4</td>\n",
       "    </tr>\n",
       "    <tr>\n",
       "      <th>4</th>\n",
       "      <td>0</td>\n",
       "      <td>2</td>\n",
       "      <td>0</td>\n",
       "      <td>3</td>\n",
       "    </tr>\n",
       "  </tbody>\n",
       "</table>\n",
       "</div>"
      ],
      "text/plain": [
       "   values  category  level_of_difficulty  related_mood\n",
       "0       0         2                    0            10\n",
       "1       0         1                    2             4\n",
       "2       0         2                    1            17\n",
       "3       0         2                    2             4\n",
       "4       0         2                    0             3"
      ]
     },
     "execution_count": 21,
     "metadata": {},
     "output_type": "execute_result"
    }
   ],
   "source": [
    "X.head(5)"
   ]
  },
  {
   "cell_type": "code",
   "execution_count": 22,
   "id": "88a1c4a6",
   "metadata": {},
   "outputs": [
    {
     "data": {
      "text/plain": [
       "0               Upcycling/Recycling old items\n",
       "1          Participate in communal activities\n",
       "2                            Making donations\n",
       "3        Volunteering for a cause you support\n",
       "4    Donating old clothes or items to charity\n",
       "Name: activities, dtype: object"
      ]
     },
     "execution_count": 22,
     "metadata": {},
     "output_type": "execute_result"
    }
   ],
   "source": [
    "y.head(5)\n"
   ]
  },
  {
   "cell_type": "markdown",
   "id": "c7b1c6fd",
   "metadata": {},
   "source": [
    "##### Applying Principal Component Analysis for Visualisation"
   ]
  },
  {
   "cell_type": "code",
   "execution_count": 23,
   "id": "69a62701",
   "metadata": {},
   "outputs": [],
   "source": [
    "pca = PCA(2)\n",
    "X_pca = pca.fit_transform(X)"
   ]
  },
  {
   "cell_type": "markdown",
   "id": "1889bc8d",
   "metadata": {},
   "source": [
    "## Data Analysis"
   ]
  },
  {
   "cell_type": "markdown",
   "id": "dc320f83",
   "metadata": {},
   "source": [
    "##### Using distortion, silhoutte score and calinski_harabasz method for K-means and agglomerative clustering to select number of clusters"
   ]
  },
  {
   "cell_type": "code",
   "execution_count": 24,
   "id": "46062be6",
   "metadata": {},
   "outputs": [],
   "source": [
    "k = [i for i in range(2,15)] #finding optimal number of clusters between 2 and 15"
   ]
  },
  {
   "cell_type": "code",
   "execution_count": 25,
   "id": "eef45d21",
   "metadata": {},
   "outputs": [],
   "source": [
    "import random\n",
    "random.seed(42)"
   ]
  },
  {
   "cell_type": "markdown",
   "id": "98dd9529",
   "metadata": {},
   "source": [
    "###### Distortion and kMeans"
   ]
  },
  {
   "cell_type": "code",
   "execution_count": 26,
   "id": "725ccbde",
   "metadata": {},
   "outputs": [
    {
     "data": {
      "image/png": "[encoded data removed]",
      "text/plain": [
       "<Figure size 432x288 with 1 Axes>"
      ]
     },
     "metadata": {
      "needs_background": "light"
     },
     "output_type": "display_data"
    },
    {
     "data": {
      "text/plain": [
       "<AxesSubplot:title={'center':'Distortion Score Elbow for KMeans Clustering'}, xlabel='k', ylabel='distortion score'>"
      ]
     },
     "execution_count": 26,
     "metadata": {},
     "output_type": "execute_result"
    }
   ],
   "source": [
    "km = KMeans()\n",
    "visualizer_kmm = KElbowVisualizer(km, k=k, timings= False)\n",
    "visualizer_kmm.fit(X)        # Fit data to visualizer\n",
    "visualizer_kmm.show()"
   ]
  },
  {
   "cell_type": "markdown",
   "id": "58bab6d2",
   "metadata": {},
   "source": [
    "###### Silhouette score and kMeans"
   ]
  },
  {
   "cell_type": "code",
   "execution_count": 28,
   "id": "c2c2fb90",
   "metadata": {},
   "outputs": [
    {
     "data": {
      "image/png": "[encoded data removed]",
      "text/plain": [
       "<Figure size 432x288 with 1 Axes>"
      ]
     },
     "metadata": {
      "needs_background": "light"
     },
     "output_type": "display_data"
    },
    {
     "data": {
      "text/plain": [
       "<AxesSubplot:title={'center':'Silhouette Score Elbow for KMeans Clustering'}, xlabel='k', ylabel='silhouette score'>"
      ]
     },
     "execution_count": 28,
     "metadata": {},
     "output_type": "execute_result"
    }
   ],
   "source": [
    "visualizer_kmm_ss = KElbowVisualizer(km, k=k, metric='silhouette', timings= False, locate_elbow= False)\n",
    "visualizer_kmm_ss.fit(X)        # Fit the data to the visualizer\n",
    "visualizer_kmm_ss.show() "
   ]
  },
  {
   "cell_type": "markdown",
   "id": "4563f74e",
   "metadata": {},
   "source": [
    "###### calinski_harabasz for kMeans"
   ]
  },
  {
   "cell_type": "code",
   "execution_count": 32,
   "id": "e386ab67",
   "metadata": {},
   "outputs": [
    {
     "data": {
      "image/png": "[encoded data removed]",
      "text/plain": [
       "<Figure size 432x288 with 1 Axes>"
      ]
     },
     "metadata": {
      "needs_background": "light"
     },
     "output_type": "display_data"
    },
    {
     "data": {
      "text/plain": [
       "<AxesSubplot:title={'center':'Calinski Harabasz Score Elbow for KMeans Clustering'}, xlabel='k', ylabel='calinski harabasz score'>"
      ]
     },
     "execution_count": 32,
     "metadata": {},
     "output_type": "execute_result"
    }
   ],
   "source": [
    "visualizer_kmm_ch = KElbowVisualizer(km, k=k, metric='calinski_harabasz', timings= False, locate_elbow= False)\n",
    "visualizer_kmm_ch.fit(X)        # Fit the data to the visualizer\n",
    "visualizer_kmm_ch.show() "
   ]
  },
  {
   "cell_type": "markdown",
   "id": "0bc992eb",
   "metadata": {},
   "source": [
    "###### Distortion for agg"
   ]
  },
  {
   "cell_type": "code",
   "execution_count": 33,
   "id": "f87526bb",
   "metadata": {},
   "outputs": [
    {
     "data": {
      "image/png": "[encoded data removed]",
      "text/plain": [
       "<Figure size 432x288 with 1 Axes>"
      ]
     },
     "metadata": {
      "needs_background": "light"
     },
     "output_type": "display_data"
    },
    {
     "data": {
      "text/plain": [
       "<AxesSubplot:title={'center':'Distortion Score Elbow for AgglomerativeClustering Clustering'}, xlabel='k', ylabel='distortion score'>"
      ]
     },
     "execution_count": 33,
     "metadata": {},
     "output_type": "execute_result"
    }
   ],
   "source": [
    "agg = AgglomerativeClustering()\n",
    "visualizer_agg = KElbowVisualizer(agg, k=k, timings= False)\n",
    "visualizer_agg.fit(X)        # Fit data to visualizer\n",
    "visualizer_agg.show()"
   ]
  },
  {
   "cell_type": "markdown",
   "id": "2cc148ea",
   "metadata": {},
   "source": [
    "###### Silhouette score for agg"
   ]
  },
  {
   "cell_type": "code",
   "execution_count": 34,
   "id": "73c04ffa",
   "metadata": {},
   "outputs": [
    {
     "data": {
      "image/png": "[encoded data removed]",
      "text/plain": [
       "<Figure size 432x288 with 1 Axes>"
      ]
     },
     "metadata": {
      "needs_background": "light"
     },
     "output_type": "display_data"
    },
    {
     "data": {
      "text/plain": [
       "<AxesSubplot:title={'center':'Silhouette Score Elbow for AgglomerativeClustering Clustering'}, xlabel='k', ylabel='silhouette score'>"
      ]
     },
     "execution_count": 34,
     "metadata": {},
     "output_type": "execute_result"
    }
   ],
   "source": [
    "visualizer_agg_ss = KElbowVisualizer(agg, k=k, metric='silhouette', timings= False, locate_elbow='False')\n",
    "visualizer_agg_ss.fit(X)        # Fit data to visualizer\n",
    "visualizer_agg_ss.show()"
   ]
  },
  {
   "cell_type": "markdown",
   "id": "70e2a260",
   "metadata": {},
   "source": [
    "###### calinski_harabasz for agg"
   ]
  },
  {
   "cell_type": "code",
   "execution_count": 35,
   "id": "0d8595f1",
   "metadata": {},
   "outputs": [
    {
     "data": {
      "image/png": "[encoded data removed]",
      "text/plain": [
       "<Figure size 432x288 with 1 Axes>"
      ]
     },
     "metadata": {
      "needs_background": "light"
     },
     "output_type": "display_data"
    },
    {
     "data": {
      "text/plain": [
       "<AxesSubplot:title={'center':'Calinski Harabasz Score Elbow for AgglomerativeClustering Clustering'}, xlabel='k', ylabel='calinski harabasz score'>"
      ]
     },
     "execution_count": 35,
     "metadata": {},
     "output_type": "execute_result"
    }
   ],
   "source": [
    "visualizer_agg_ch = KElbowVisualizer(agg, k=k, metric='calinski_harabasz', timings= False, locate_elbow='False')\n",
    "visualizer_agg_ch.fit(X)        # Fit data to visualizer\n",
    "visualizer_agg_ch.show()"
   ]
  },
  {
   "cell_type": "markdown",
   "id": "e2752409",
   "metadata": {},
   "source": [
    "## Data Modelling"
   ]
  },
  {
   "cell_type": "markdown",
   "id": "c049007a",
   "metadata": {},
   "source": [
    "### KMeans()"
   ]
  },
  {
   "cell_type": "markdown",
   "id": "8d4bbd02",
   "metadata": {},
   "source": [
    "#### Clusters = 4"
   ]
  },
  {
   "cell_type": "code",
   "execution_count": 27,
   "id": "0706c240",
   "metadata": {},
   "outputs": [],
   "source": [
    "km_4 = KMeans(n_clusters=4, random_state=42) # initializing k-means \n",
    "km_cluster_4 = km_4.fit_predict(X) # model fit and predict\n",
    "km_u_cluster_4 = np.unique(km_cluster_4) #unique number of clusters\n",
    "centroids_4 = km_4.cluster_centers_ #centroids for plotting the graph"
   ]
  },
  {
   "cell_type": "code",
   "execution_count": 28,
   "id": "cf17ed21",
   "metadata": {},
   "outputs": [],
   "source": [
    "data[\"km4\"]= pd.Series(km_cluster_4, index=data.index) #adding corresponding cluters to the dataset"
   ]
  },
  {
   "cell_type": "markdown",
   "id": "c3086179",
   "metadata": {},
   "source": [
    "#### Clusters = 5"
   ]
  },
  {
   "cell_type": "code",
   "execution_count": 29,
   "id": "15550513",
   "metadata": {},
   "outputs": [],
   "source": [
    "km_5 = KMeans(n_clusters=5, random_state=42) # initializing k-means \n",
    "km_cluster_5 = km_5.fit_predict(X) # model fit and predict\n",
    "km_u_cluster_5 = np.unique(km_cluster_5) #unique number of clusters\n",
    "centroids_5 = km_5.cluster_centers_ #centroids for plotting the graph"
   ]
  },
  {
   "cell_type": "code",
   "execution_count": 30,
   "id": "6ae3a3ed",
   "metadata": {},
   "outputs": [],
   "source": [
    "data[\"km5\"]= pd.Series(km_cluster_5, index=data.index) #adding corresponding cluters to the dataset"
   ]
  },
  {
   "cell_type": "markdown",
   "id": "697aeac1",
   "metadata": {},
   "source": [
    "#### Clusters = 8"
   ]
  },
  {
   "cell_type": "code",
   "execution_count": 31,
   "id": "f3349113",
   "metadata": {},
   "outputs": [],
   "source": [
    "km_8 = KMeans(n_clusters=8, random_state=42) # initializing k-means \n",
    "km_cluster_8 = km_8.fit_predict(X) # model fit and predict\n",
    "km_u_cluster_8 = np.unique(km_cluster_8) #unique number of clusters\n",
    "centroids_8 = km_8.cluster_centers_ #centroids for plotting the graph"
   ]
  },
  {
   "cell_type": "code",
   "execution_count": 32,
   "id": "368f1efc",
   "metadata": {},
   "outputs": [],
   "source": [
    "data[\"km8\"]= pd.Series(km_cluster_8, index=data.index) #adding corresponding cluters to the dataset"
   ]
  },
  {
   "cell_type": "code",
   "execution_count": 33,
   "id": "ce990137",
   "metadata": {},
   "outputs": [
    {
     "data": {
      "text/html": [
       "<div>\n",
       "<style scoped>\n",
       "    .dataframe tbody tr th:only-of-type {\n",
       "        vertical-align: middle;\n",
       "    }\n",
       "\n",
       "    .dataframe tbody tr th {\n",
       "        vertical-align: top;\n",
       "    }\n",
       "\n",
       "    .dataframe thead th {\n",
       "        text-align: right;\n",
       "    }\n",
       "</style>\n",
       "<table border=\"1\" class=\"dataframe\">\n",
       "  <thead>\n",
       "    <tr style=\"text-align: right;\">\n",
       "      <th></th>\n",
       "      <th>values</th>\n",
       "      <th>activities</th>\n",
       "      <th>category</th>\n",
       "      <th>level_of_difficulty</th>\n",
       "      <th>related_mood</th>\n",
       "      <th>km4</th>\n",
       "      <th>km5</th>\n",
       "      <th>km8</th>\n",
       "    </tr>\n",
       "  </thead>\n",
       "  <tbody>\n",
       "    <tr>\n",
       "      <th>0</th>\n",
       "      <td>0</td>\n",
       "      <td>Upcycling/Recycling old items</td>\n",
       "      <td>2</td>\n",
       "      <td>0</td>\n",
       "      <td>10</td>\n",
       "      <td>3</td>\n",
       "      <td>0</td>\n",
       "      <td>3</td>\n",
       "    </tr>\n",
       "    <tr>\n",
       "      <th>1</th>\n",
       "      <td>0</td>\n",
       "      <td>Participate in communal activities</td>\n",
       "      <td>1</td>\n",
       "      <td>2</td>\n",
       "      <td>4</td>\n",
       "      <td>1</td>\n",
       "      <td>3</td>\n",
       "      <td>1</td>\n",
       "    </tr>\n",
       "    <tr>\n",
       "      <th>2</th>\n",
       "      <td>0</td>\n",
       "      <td>Making donations</td>\n",
       "      <td>2</td>\n",
       "      <td>1</td>\n",
       "      <td>17</td>\n",
       "      <td>2</td>\n",
       "      <td>4</td>\n",
       "      <td>7</td>\n",
       "    </tr>\n",
       "  </tbody>\n",
       "</table>\n",
       "</div>"
      ],
      "text/plain": [
       "   values                          activities  category  level_of_difficulty  \\\n",
       "0       0       Upcycling/Recycling old items         2                    0   \n",
       "1       0  Participate in communal activities         1                    2   \n",
       "2       0                    Making donations         2                    1   \n",
       "\n",
       "   related_mood  km4  km5  km8  \n",
       "0            10    3    0    3  \n",
       "1             4    1    3    1  \n",
       "2            17    2    4    7  "
      ]
     },
     "execution_count": 33,
     "metadata": {},
     "output_type": "execute_result"
    }
   ],
   "source": [
    "data.head(3)"
   ]
  },
  {
   "cell_type": "markdown",
   "id": "1805d24d",
   "metadata": {},
   "source": [
    "##### Visualising the clusters (KMeans)"
   ]
  },
  {
   "cell_type": "code",
   "execution_count": 43,
   "id": "f7ee9ca3",
   "metadata": {},
   "outputs": [
    {
     "data": {
      "image/png": "[encoded data removed]",
      "text/plain": [
       "<Figure size 1080x360 with 3 Axes>"
      ]
     },
     "metadata": {
      "needs_background": "light"
     },
     "output_type": "display_data"
    }
   ],
   "source": [
    "fig, (ax1, ax2,ax3) = plt.subplots(1, 3, figsize=(15,5))\n",
    "\n",
    "# cluster 4\n",
    "ax1.title.set_text(\"Cluster 4\")\n",
    "for i in km_u_cluster_4: #Visualisation\n",
    "    ax1.scatter(X_pca[km_cluster_4 == i, 0], X_pca[km_cluster_4 == i, 1], label = i)\n",
    "ax1.grid(False)\n",
    "ax1.legend(km_u_cluster_4)\n",
    "#ax1.xlabel(\"PC1\")\n",
    "#ax1.ylabel(\"PC2\")\n",
    "\n",
    "# cluster 5\n",
    "ax2.title.set_text(\"Cluster 5\")\n",
    "for i in km_u_cluster_5: #Visualisation\n",
    "    ax2.scatter(X_pca[km_cluster_5== i, 0], X_pca[km_cluster_5 == i, 1], label = i)\n",
    "ax2.grid(False)\n",
    "ax2.legend(km_u_cluster_5)\n",
    "\n",
    "# cluster 8\n",
    "ax3.title.set_text(\"Cluster 8\")\n",
    "for i in km_u_cluster_8: #Visualisation\n",
    "    ax3.scatter(X_pca[km_cluster_8== i, 0], X_pca[km_cluster_8 == i, 1], label = i)\n",
    "ax3.grid(False)\n",
    "ax3.legend(km_u_cluster_8)\n",
    "plt.show()"
   ]
  },
  {
   "cell_type": "markdown",
   "id": "2a05ab5e",
   "metadata": {},
   "source": [
    "### Agglomerative()"
   ]
  },
  {
   "cell_type": "markdown",
   "id": "e8a43908",
   "metadata": {},
   "source": [
    "##### Cluster 4"
   ]
  },
  {
   "cell_type": "code",
   "execution_count": 34,
   "id": "32dace33",
   "metadata": {},
   "outputs": [],
   "source": [
    "agg_4 = AgglomerativeClustering(n_clusters=4)\n",
    "agg_cluster_4 = agg_4.fit_predict(X)\n",
    "agg_u_cluster_4 = np.unique(agg_cluster_4)"
   ]
  },
  {
   "cell_type": "code",
   "execution_count": 35,
   "id": "8a8c9c82",
   "metadata": {},
   "outputs": [],
   "source": [
    "data[\"agg4\"]= agg_cluster_4"
   ]
  },
  {
   "cell_type": "markdown",
   "id": "c6f3829f",
   "metadata": {},
   "source": [
    "##### Cluster 5"
   ]
  },
  {
   "cell_type": "code",
   "execution_count": 36,
   "id": "d09343b8",
   "metadata": {},
   "outputs": [],
   "source": [
    "agg_5 = AgglomerativeClustering(n_clusters=5)\n",
    "agg_cluster_5 = agg_5.fit_predict(X)\n",
    "agg_u_cluster_5 = np.unique(agg_cluster_5)"
   ]
  },
  {
   "cell_type": "code",
   "execution_count": 37,
   "id": "01e42e53",
   "metadata": {},
   "outputs": [],
   "source": [
    "data[\"agg5\"]= agg_cluster_5"
   ]
  },
  {
   "cell_type": "markdown",
   "id": "ef406924",
   "metadata": {},
   "source": [
    "##### Cluster 8"
   ]
  },
  {
   "cell_type": "code",
   "execution_count": 38,
   "id": "fb8ba05b",
   "metadata": {},
   "outputs": [],
   "source": [
    "agg_8 = AgglomerativeClustering(n_clusters=8)\n",
    "agg_cluster_8 = agg_8.fit_predict(X)\n",
    "agg_u_cluster_8 = np.unique(agg_cluster_8)\n",
    "    "
   ]
  },
  {
   "cell_type": "code",
   "execution_count": 39,
   "id": "e41d3d91",
   "metadata": {},
   "outputs": [],
   "source": [
    "data[\"agg8\"]= agg_cluster_8"
   ]
  },
  {
   "cell_type": "markdown",
   "id": "f0c3b0af",
   "metadata": {},
   "source": [
    "##### Visualising the clusters (Agg)"
   ]
  },
  {
   "cell_type": "code",
   "execution_count": 50,
   "id": "77817635",
   "metadata": {},
   "outputs": [
    {
     "data": {
      "image/png": "[encoded data removed]",
      "text/plain": [
       "<Figure size 1080x360 with 3 Axes>"
      ]
     },
     "metadata": {
      "needs_background": "light"
     },
     "output_type": "display_data"
    }
   ],
   "source": [
    "fig, (ax1, ax2,ax3) = plt.subplots(1, 3, figsize=(15,5))\n",
    "\n",
    "# cluster 4\n",
    "ax1.title.set_text(\"Cluster 4\")\n",
    "for i in agg_u_cluster_4: #Visualisation\n",
    "    ax1.scatter(X_pca[agg_cluster_4 == i, 0], X_pca[agg_cluster_4 == i, 1], label = i)\n",
    "ax1.grid(False)\n",
    "ax1.legend(agg_u_cluster_4)\n",
    "#ax1.xlabel(\"PC1\")\n",
    "#ax1.ylabel(\"PC2\")\n",
    "\n",
    "# cluster 5\n",
    "ax2.title.set_text(\"Cluster 5\")\n",
    "for i in agg_u_cluster_5: #Visualisation\n",
    "    ax2.scatter(X_pca[agg_cluster_5== i, 0], X_pca[agg_cluster_5 == i, 1], label = i)\n",
    "ax2.grid(False)\n",
    "ax2.legend(agg_u_cluster_5)\n",
    "\n",
    "# cluster 8\n",
    "ax3.title.set_text(\"Cluster 8\")\n",
    "for i in agg_u_cluster_8: #Visualisation\n",
    "    ax3.scatter(X_pca[agg_cluster_8== i, 0], X_pca[agg_cluster_8 == i, 1], label = i)\n",
    "ax3.grid(False)\n",
    "ax3.legend(agg_u_cluster_8)\n",
    "plt.show()"
   ]
  },
  {
   "cell_type": "markdown",
   "id": "a20d5fee",
   "metadata": {},
   "source": [
    "### Gaussian Mixture Model()"
   ]
  },
  {
   "cell_type": "markdown",
   "id": "5cffc144",
   "metadata": {},
   "source": [
    "##### Cluster 4"
   ]
  },
  {
   "cell_type": "code",
   "execution_count": 40,
   "id": "8b267ec7",
   "metadata": {},
   "outputs": [],
   "source": [
    "gmm_4 = GaussianMixture(n_components=4)\n",
    "gmm_4.fit(X)\n",
    "# assign each data point to a cluster\n",
    "gmm_cluster_4 = gmm_4.predict(X)\n",
    "# get all of the unique clusters\n",
    "gmm_u_cluster_4 = unique(gmm_cluster_4 )"
   ]
  },
  {
   "cell_type": "code",
   "execution_count": 41,
   "id": "c5267476",
   "metadata": {},
   "outputs": [],
   "source": [
    "data[\"gmm4\"]= gmm_cluster_4"
   ]
  },
  {
   "cell_type": "markdown",
   "id": "4a8bb6c4",
   "metadata": {},
   "source": [
    "##### Cluster 5"
   ]
  },
  {
   "cell_type": "code",
   "execution_count": 42,
   "id": "93dcab08",
   "metadata": {},
   "outputs": [],
   "source": [
    "gmm_5 = GaussianMixture(n_components=5)\n",
    "gmm_5.fit(X)\n",
    "# assign each data point to a cluster\n",
    "gmm_cluster_5 = gmm_5.predict(X)\n",
    "# get all of the unique clusters\n",
    "gmm_u_cluster_5 = unique(gmm_cluster_5 )"
   ]
  },
  {
   "cell_type": "code",
   "execution_count": 43,
   "id": "2a3312f3",
   "metadata": {},
   "outputs": [],
   "source": [
    "data[\"gmm5\"]= gmm_cluster_5"
   ]
  },
  {
   "cell_type": "markdown",
   "id": "46a0f692",
   "metadata": {},
   "source": [
    "##### Cluster 8"
   ]
  },
  {
   "cell_type": "code",
   "execution_count": 44,
   "id": "0f4fcb38",
   "metadata": {},
   "outputs": [],
   "source": [
    "gmm_8 = GaussianMixture(n_components=8)\n",
    "gmm_8.fit(X)\n",
    "# assign each data point to a cluster\n",
    "gmm_cluster_8 = gmm_8.predict(X)\n",
    "# get all of the unique clusters\n",
    "gmm_u_cluster_8 = unique(gmm_cluster_8 )"
   ]
  },
  {
   "cell_type": "code",
   "execution_count": 45,
   "id": "0577d10c",
   "metadata": {},
   "outputs": [],
   "source": [
    "data[\"gmm8\"]= gmm_cluster_8"
   ]
  },
  {
   "cell_type": "markdown",
   "id": "0b60602f",
   "metadata": {},
   "source": [
    "##### Visualising the clusters (GMM)"
   ]
  },
  {
   "cell_type": "code",
   "execution_count": 57,
   "id": "22683005",
   "metadata": {},
   "outputs": [
    {
     "data": {
      "image/png": "[encoded data removed]",
      "text/plain": [
       "<Figure size 1080x360 with 3 Axes>"
      ]
     },
     "metadata": {
      "needs_background": "light"
     },
     "output_type": "display_data"
    }
   ],
   "source": [
    "fig, (ax1, ax2,ax3) = plt.subplots(1, 3, figsize=(15,5))\n",
    "\n",
    "# cluster 4\n",
    "ax1.title.set_text(\"Cluster 4\")\n",
    "for i in gmm_u_cluster_4: #Visualisation\n",
    "    ax1.scatter(X_pca[gmm_cluster_4 == i, 0], X_pca[gmm_cluster_4 == i, 1], label = i)\n",
    "ax1.grid(False)\n",
    "ax1.legend(gmm_u_cluster_4)\n",
    "#ax1.xlabel(\"PC1\")\n",
    "#ax1.ylabel(\"PC2\")\n",
    "\n",
    "# cluster 5\n",
    "ax2.title.set_text(\"Cluster 5\")\n",
    "for i in gmm_u_cluster_5: #Visualisation\n",
    "    ax2.scatter(X_pca[gmm_cluster_5== i, 0], X_pca[gmm_cluster_5 == i, 1], label = i)\n",
    "ax2.grid(False)\n",
    "ax2.legend(gmm_u_cluster_5)\n",
    "\n",
    "# cluster 8\n",
    "ax3.title.set_text(\"Cluster 8\")\n",
    "for i in gmm_u_cluster_8: #Visualisation\n",
    "    ax3.scatter(X_pca[gmm_cluster_8== i, 0], X_pca[gmm_cluster_8 == i, 1], label = i)\n",
    "ax3.grid(False)\n",
    "ax3.legend(gmm_u_cluster_8)\n",
    "plt.show()"
   ]
  },
  {
   "cell_type": "code",
   "execution_count": 58,
   "id": "e81ef839",
   "metadata": {},
   "outputs": [
    {
     "data": {
      "text/html": [
       "<div>\n",
       "<style scoped>\n",
       "    .dataframe tbody tr th:only-of-type {\n",
       "        vertical-align: middle;\n",
       "    }\n",
       "\n",
       "    .dataframe tbody tr th {\n",
       "        vertical-align: top;\n",
       "    }\n",
       "\n",
       "    .dataframe thead th {\n",
       "        text-align: right;\n",
       "    }\n",
       "</style>\n",
       "<table border=\"1\" class=\"dataframe\">\n",
       "  <thead>\n",
       "    <tr style=\"text-align: right;\">\n",
       "      <th></th>\n",
       "      <th>values</th>\n",
       "      <th>activities</th>\n",
       "      <th>category</th>\n",
       "      <th>level_of_difficulty</th>\n",
       "      <th>related_mood</th>\n",
       "      <th>km4</th>\n",
       "      <th>km5</th>\n",
       "      <th>km8</th>\n",
       "      <th>agg4</th>\n",
       "      <th>agg5</th>\n",
       "      <th>agg8</th>\n",
       "      <th>gmm4</th>\n",
       "      <th>gmm5</th>\n",
       "      <th>gmm8</th>\n",
       "    </tr>\n",
       "  </thead>\n",
       "  <tbody>\n",
       "    <tr>\n",
       "      <th>0</th>\n",
       "      <td>0</td>\n",
       "      <td>Upcycling/Recycling old items</td>\n",
       "      <td>2</td>\n",
       "      <td>0</td>\n",
       "      <td>10</td>\n",
       "      <td>3</td>\n",
       "      <td>0</td>\n",
       "      <td>3</td>\n",
       "      <td>2</td>\n",
       "      <td>0</td>\n",
       "      <td>5</td>\n",
       "      <td>2</td>\n",
       "      <td>4</td>\n",
       "      <td>5</td>\n",
       "    </tr>\n",
       "    <tr>\n",
       "      <th>1</th>\n",
       "      <td>0</td>\n",
       "      <td>Participate in communal activities</td>\n",
       "      <td>1</td>\n",
       "      <td>2</td>\n",
       "      <td>4</td>\n",
       "      <td>1</td>\n",
       "      <td>3</td>\n",
       "      <td>1</td>\n",
       "      <td>0</td>\n",
       "      <td>4</td>\n",
       "      <td>4</td>\n",
       "      <td>3</td>\n",
       "      <td>2</td>\n",
       "      <td>0</td>\n",
       "    </tr>\n",
       "    <tr>\n",
       "      <th>2</th>\n",
       "      <td>0</td>\n",
       "      <td>Making donations</td>\n",
       "      <td>2</td>\n",
       "      <td>1</td>\n",
       "      <td>17</td>\n",
       "      <td>2</td>\n",
       "      <td>4</td>\n",
       "      <td>7</td>\n",
       "      <td>1</td>\n",
       "      <td>1</td>\n",
       "      <td>0</td>\n",
       "      <td>1</td>\n",
       "      <td>1</td>\n",
       "      <td>4</td>\n",
       "    </tr>\n",
       "  </tbody>\n",
       "</table>\n",
       "</div>"
      ],
      "text/plain": [
       "   values                          activities  category  level_of_difficulty  \\\n",
       "0       0       Upcycling/Recycling old items         2                    0   \n",
       "1       0  Participate in communal activities         1                    2   \n",
       "2       0                    Making donations         2                    1   \n",
       "\n",
       "   related_mood  km4  km5  km8  agg4  agg5  agg8  gmm4  gmm5  gmm8  \n",
       "0            10    3    0    3     2     0     5     2     4     5  \n",
       "1             4    1    3    1     0     4     4     3     2     0  \n",
       "2            17    2    4    7     1     1     0     1     1     4  "
      ]
     },
     "execution_count": 58,
     "metadata": {},
     "output_type": "execute_result"
    }
   ],
   "source": [
    "data.head(3)"
   ]
  },
  {
   "cell_type": "markdown",
   "id": "b15f5a38",
   "metadata": {},
   "source": [
    "## Model Comparison"
   ]
  },
  {
   "cell_type": "markdown",
   "id": "a5ba82fa",
   "metadata": {},
   "source": [
    "##### Cluster 4"
   ]
  },
  {
   "cell_type": "code",
   "execution_count": 46,
   "id": "1696f8ce",
   "metadata": {},
   "outputs": [],
   "source": [
    "from sklearn.metrics import davies_bouldin_score, calinski_harabasz_score,silhouette_score"
   ]
  },
  {
   "cell_type": "code",
   "execution_count": 47,
   "id": "11eae791",
   "metadata": {},
   "outputs": [],
   "source": [
    "Cluster4 = data[[\"km4\",\"agg4\",\"gmm4\"]]"
   ]
  },
  {
   "cell_type": "code",
   "execution_count": 48,
   "id": "50f2461b",
   "metadata": {},
   "outputs": [
    {
     "data": {
      "text/html": [
       "<div>\n",
       "<style scoped>\n",
       "    .dataframe tbody tr th:only-of-type {\n",
       "        vertical-align: middle;\n",
       "    }\n",
       "\n",
       "    .dataframe tbody tr th {\n",
       "        vertical-align: top;\n",
       "    }\n",
       "\n",
       "    .dataframe thead th {\n",
       "        text-align: right;\n",
       "    }\n",
       "</style>\n",
       "<table border=\"1\" class=\"dataframe\">\n",
       "  <thead>\n",
       "    <tr style=\"text-align: right;\">\n",
       "      <th></th>\n",
       "      <th>km4</th>\n",
       "      <th>agg4</th>\n",
       "      <th>gmm4</th>\n",
       "    </tr>\n",
       "  </thead>\n",
       "  <tbody>\n",
       "    <tr>\n",
       "      <th>0</th>\n",
       "      <td>3</td>\n",
       "      <td>2</td>\n",
       "      <td>0</td>\n",
       "    </tr>\n",
       "    <tr>\n",
       "      <th>1</th>\n",
       "      <td>1</td>\n",
       "      <td>0</td>\n",
       "      <td>2</td>\n",
       "    </tr>\n",
       "    <tr>\n",
       "      <th>2</th>\n",
       "      <td>2</td>\n",
       "      <td>1</td>\n",
       "      <td>3</td>\n",
       "    </tr>\n",
       "    <tr>\n",
       "      <th>3</th>\n",
       "      <td>1</td>\n",
       "      <td>0</td>\n",
       "      <td>2</td>\n",
       "    </tr>\n",
       "    <tr>\n",
       "      <th>4</th>\n",
       "      <td>1</td>\n",
       "      <td>0</td>\n",
       "      <td>2</td>\n",
       "    </tr>\n",
       "    <tr>\n",
       "      <th>5</th>\n",
       "      <td>1</td>\n",
       "      <td>0</td>\n",
       "      <td>2</td>\n",
       "    </tr>\n",
       "    <tr>\n",
       "      <th>6</th>\n",
       "      <td>3</td>\n",
       "      <td>2</td>\n",
       "      <td>0</td>\n",
       "    </tr>\n",
       "    <tr>\n",
       "      <th>7</th>\n",
       "      <td>1</td>\n",
       "      <td>0</td>\n",
       "      <td>2</td>\n",
       "    </tr>\n",
       "    <tr>\n",
       "      <th>8</th>\n",
       "      <td>2</td>\n",
       "      <td>1</td>\n",
       "      <td>3</td>\n",
       "    </tr>\n",
       "    <tr>\n",
       "      <th>9</th>\n",
       "      <td>1</td>\n",
       "      <td>0</td>\n",
       "      <td>2</td>\n",
       "    </tr>\n",
       "  </tbody>\n",
       "</table>\n",
       "</div>"
      ],
      "text/plain": [
       "   km4  agg4  gmm4\n",
       "0    3     2     0\n",
       "1    1     0     2\n",
       "2    2     1     3\n",
       "3    1     0     2\n",
       "4    1     0     2\n",
       "5    1     0     2\n",
       "6    3     2     0\n",
       "7    1     0     2\n",
       "8    2     1     3\n",
       "9    1     0     2"
      ]
     },
     "execution_count": 48,
     "metadata": {},
     "output_type": "execute_result"
    }
   ],
   "source": [
    "Cluster4.head(10)"
   ]
  },
  {
   "cell_type": "code",
   "execution_count": 62,
   "id": "70a4979e",
   "metadata": {},
   "outputs": [
    {
     "data": {
      "image/png": "[encoded data removed]",
      "text/plain": [
       "<Figure size 1080x360 with 3 Axes>"
      ]
     },
     "metadata": {
      "needs_background": "light"
     },
     "output_type": "display_data"
    }
   ],
   "source": [
    "fig, (ax1, ax2,ax3) = plt.subplots(1, 3, figsize=(15,5))\n",
    "\n",
    "# cluster 4 KMeans\n",
    "ax1.title.set_text(\"Cluster 4 Kmeans\")\n",
    "for i in km_u_cluster_4: #Visualisation\n",
    "    ax1.scatter(X_pca[km_cluster_4 == i, 0], X_pca[km_cluster_4 == i, 1], label = i)\n",
    "ax1.grid(False)\n",
    "ax1.legend(km_u_cluster_4)\n",
    "#ax1.xlabel(\"PC1\")\n",
    "#ax1.ylabel(\"PC2\")\n",
    "\n",
    "# cluster 4 AGG\n",
    "ax2.title.set_text(\"Cluster 4 AGG\")\n",
    "\n",
    "for i in agg_u_cluster_4: #Visualisation\n",
    "    ax2.scatter(X_pca[agg_cluster_4 == i, 0], X_pca[agg_cluster_4 == i, 1], label = i)\n",
    "ax2.grid(False)\n",
    "ax2.legend(agg_u_cluster_4)\n",
    "\n",
    "# cluster 4 GMM\n",
    "ax3.title.set_text(\"Cluster 4 GMM\")\n",
    "for i in gmm_u_cluster_4: #Visualisation\n",
    "    ax3.scatter(X_pca[gmm_cluster_4== i, 0], X_pca[gmm_cluster_4 == i, 1], label = i)\n",
    "ax3.grid(False)\n",
    "ax3.legend(gmm_u_cluster_4)\n",
    "plt.show()"
   ]
  },
  {
   "cell_type": "markdown",
   "id": "5483ed90",
   "metadata": {},
   "source": [
    "##### Cluster 5"
   ]
  },
  {
   "cell_type": "code",
   "execution_count": 63,
   "id": "7df1b32e",
   "metadata": {},
   "outputs": [],
   "source": [
    "Cluster5 = data[[\"km5\",\"agg5\",\"gmm5\"]]"
   ]
  },
  {
   "cell_type": "code",
   "execution_count": 64,
   "id": "e6934f8e",
   "metadata": {},
   "outputs": [
    {
     "data": {
      "text/html": [
       "<div>\n",
       "<style scoped>\n",
       "    .dataframe tbody tr th:only-of-type {\n",
       "        vertical-align: middle;\n",
       "    }\n",
       "\n",
       "    .dataframe tbody tr th {\n",
       "        vertical-align: top;\n",
       "    }\n",
       "\n",
       "    .dataframe thead th {\n",
       "        text-align: right;\n",
       "    }\n",
       "</style>\n",
       "<table border=\"1\" class=\"dataframe\">\n",
       "  <thead>\n",
       "    <tr style=\"text-align: right;\">\n",
       "      <th></th>\n",
       "      <th>km5</th>\n",
       "      <th>agg5</th>\n",
       "      <th>gmm5</th>\n",
       "    </tr>\n",
       "  </thead>\n",
       "  <tbody>\n",
       "    <tr>\n",
       "      <th>0</th>\n",
       "      <td>0</td>\n",
       "      <td>0</td>\n",
       "      <td>4</td>\n",
       "    </tr>\n",
       "    <tr>\n",
       "      <th>1</th>\n",
       "      <td>3</td>\n",
       "      <td>4</td>\n",
       "      <td>2</td>\n",
       "    </tr>\n",
       "    <tr>\n",
       "      <th>2</th>\n",
       "      <td>4</td>\n",
       "      <td>1</td>\n",
       "      <td>1</td>\n",
       "    </tr>\n",
       "    <tr>\n",
       "      <th>3</th>\n",
       "      <td>3</td>\n",
       "      <td>4</td>\n",
       "      <td>2</td>\n",
       "    </tr>\n",
       "    <tr>\n",
       "      <th>4</th>\n",
       "      <td>3</td>\n",
       "      <td>4</td>\n",
       "      <td>2</td>\n",
       "    </tr>\n",
       "  </tbody>\n",
       "</table>\n",
       "</div>"
      ],
      "text/plain": [
       "   km5  agg5  gmm5\n",
       "0    0     0     4\n",
       "1    3     4     2\n",
       "2    4     1     1\n",
       "3    3     4     2\n",
       "4    3     4     2"
      ]
     },
     "execution_count": 64,
     "metadata": {},
     "output_type": "execute_result"
    }
   ],
   "source": [
    "Cluster5.head()"
   ]
  },
  {
   "cell_type": "code",
   "execution_count": 65,
   "id": "7b359fd0",
   "metadata": {},
   "outputs": [
    {
     "data": {
      "image/png": "[encoded data removed]",
      "text/plain": [
       "<Figure size 1080x360 with 3 Axes>"
      ]
     },
     "metadata": {
      "needs_background": "light"
     },
     "output_type": "display_data"
    }
   ],
   "source": [
    "fig, (ax1, ax2,ax3) = plt.subplots(1, 3, figsize=(15,5))\n",
    "\n",
    "# cluster 5 KMeans\n",
    "ax1.title.set_text(\"Cluster 5 Kmeans\")\n",
    "for i in km_u_cluster_5: #Visualisation\n",
    "    ax1.scatter(X_pca[km_cluster_5 == i, 0], X_pca[km_cluster_5 == i, 1], label = i)\n",
    "ax1.grid(False)\n",
    "ax1.legend(km_u_cluster_5)\n",
    "#ax1.xlabel(\"PC1\")\n",
    "#ax1.ylabel(\"PC2\")\n",
    "\n",
    "# cluster 5 AGG\n",
    "ax2.title.set_text(\"Cluster 5 AGG\")\n",
    "\n",
    "for i in agg_u_cluster_5: #Visualisation\n",
    "    ax2.scatter(X_pca[agg_cluster_5 == i, 0], X_pca[agg_cluster_5 == i, 1], label = i)\n",
    "ax2.grid(False)\n",
    "ax2.legend(agg_u_cluster_5)\n",
    "\n",
    "# cluster 5 GMM\n",
    "ax3.title.set_text(\"Cluster 5 GMM\")\n",
    "for i in gmm_u_cluster_5: #Visualisation\n",
    "    ax3.scatter(X_pca[gmm_cluster_5== i, 0], X_pca[gmm_cluster_5 == i, 1], label = i)\n",
    "ax3.grid(False)\n",
    "ax3.legend(gmm_u_cluster_5)\n",
    "plt.show()"
   ]
  },
  {
   "cell_type": "markdown",
   "id": "ce86529d",
   "metadata": {},
   "source": [
    "##### Cluster 8"
   ]
  },
  {
   "cell_type": "code",
   "execution_count": 66,
   "id": "a1c891db",
   "metadata": {},
   "outputs": [],
   "source": [
    "Cluster8 = data[[\"km8\",\"agg8\",\"gmm8\"]]"
   ]
  },
  {
   "cell_type": "code",
   "execution_count": 67,
   "id": "88b9ced0",
   "metadata": {},
   "outputs": [
    {
     "data": {
      "text/html": [
       "<div>\n",
       "<style scoped>\n",
       "    .dataframe tbody tr th:only-of-type {\n",
       "        vertical-align: middle;\n",
       "    }\n",
       "\n",
       "    .dataframe tbody tr th {\n",
       "        vertical-align: top;\n",
       "    }\n",
       "\n",
       "    .dataframe thead th {\n",
       "        text-align: right;\n",
       "    }\n",
       "</style>\n",
       "<table border=\"1\" class=\"dataframe\">\n",
       "  <thead>\n",
       "    <tr style=\"text-align: right;\">\n",
       "      <th></th>\n",
       "      <th>km8</th>\n",
       "      <th>agg8</th>\n",
       "      <th>gmm8</th>\n",
       "    </tr>\n",
       "  </thead>\n",
       "  <tbody>\n",
       "    <tr>\n",
       "      <th>0</th>\n",
       "      <td>3</td>\n",
       "      <td>5</td>\n",
       "      <td>5</td>\n",
       "    </tr>\n",
       "    <tr>\n",
       "      <th>1</th>\n",
       "      <td>1</td>\n",
       "      <td>4</td>\n",
       "      <td>0</td>\n",
       "    </tr>\n",
       "    <tr>\n",
       "      <th>2</th>\n",
       "      <td>7</td>\n",
       "      <td>0</td>\n",
       "      <td>4</td>\n",
       "    </tr>\n",
       "    <tr>\n",
       "      <th>3</th>\n",
       "      <td>1</td>\n",
       "      <td>4</td>\n",
       "      <td>0</td>\n",
       "    </tr>\n",
       "    <tr>\n",
       "      <th>4</th>\n",
       "      <td>1</td>\n",
       "      <td>4</td>\n",
       "      <td>0</td>\n",
       "    </tr>\n",
       "  </tbody>\n",
       "</table>\n",
       "</div>"
      ],
      "text/plain": [
       "   km8  agg8  gmm8\n",
       "0    3     5     5\n",
       "1    1     4     0\n",
       "2    7     0     4\n",
       "3    1     4     0\n",
       "4    1     4     0"
      ]
     },
     "execution_count": 67,
     "metadata": {},
     "output_type": "execute_result"
    }
   ],
   "source": [
    "Cluster8.head()"
   ]
  },
  {
   "cell_type": "code",
   "execution_count": 68,
   "id": "14e867a0",
   "metadata": {},
   "outputs": [
    {
     "data": {
      "image/png": "[encoded data removed]",
      "text/plain": [
       "<Figure size 1080x360 with 3 Axes>"
      ]
     },
     "metadata": {
      "needs_background": "light"
     },
     "output_type": "display_data"
    }
   ],
   "source": [
    "fig, (ax1, ax2,ax3) = plt.subplots(1, 3, figsize=(15,5))\n",
    "\n",
    "# cluster 8 KMeans\n",
    "ax1.title.set_text(\"Cluster 8 Kmeans\")\n",
    "for i in km_u_cluster_8: #Visualisation\n",
    "    ax1.scatter(X_pca[km_cluster_8 == i, 0], X_pca[km_cluster_8 == i, 1], label = i)\n",
    "ax1.grid(False)\n",
    "ax1.legend(km_u_cluster_8)\n",
    "#ax1.xlabel(\"PC1\")\n",
    "#ax1.ylabel(\"PC2\")\n",
    "\n",
    "# cluster 8 AGG\n",
    "ax2.title.set_text(\"Cluster 8 AGG\")\n",
    "\n",
    "for i in agg_u_cluster_8: #Visualisation\n",
    "    ax2.scatter(X_pca[agg_cluster_8 == i, 0], X_pca[agg_cluster_8 == i, 1], label = i)\n",
    "ax2.grid(False)\n",
    "ax2.legend(agg_u_cluster_8)\n",
    "\n",
    "# cluster 8 GMM\n",
    "ax3.title.set_text(\"Cluster 8 GMM\")\n",
    "for i in gmm_u_cluster_8: #Visualisation\n",
    "    ax3.scatter(X_pca[gmm_cluster_8== i, 0], X_pca[gmm_cluster_8 == i, 1], label = i)\n",
    "ax3.grid(False)\n",
    "ax3.legend(gmm_u_cluster_8)\n",
    "plt.show()"
   ]
  },
  {
   "cell_type": "markdown",
   "id": "68aab60b",
   "metadata": {},
   "source": [
    "###### Davies_bouldin_score for different clusters and different algorithms"
   ]
  },
  {
   "cell_type": "code",
   "execution_count": 49,
   "id": "3f138481",
   "metadata": {},
   "outputs": [],
   "source": [
    "DB = pd.DataFrame(pd.Series({\"KMeans\": davies_bouldin_score(X, km_cluster_4), \"AGG\": davies_bouldin_score(X, agg_cluster_4), \"GMM\": davies_bouldin_score(X, gmm_cluster_4)}, name='4'))\n",
    "DB= pd.concat([DB, pd.Series({\"KMeans\": davies_bouldin_score(X, km_cluster_5), \"AGG\": davies_bouldin_score(X, agg_cluster_5), \"GMM\": davies_bouldin_score(X, gmm_cluster_5)}, name='5')], axis=1)\n",
    "DB= pd.concat([DB, pd.Series({\"KMeans\": davies_bouldin_score(X, km_cluster_8), \"AGG\": davies_bouldin_score(X, agg_cluster_8), \"GMM\": davies_bouldin_score(X, gmm_cluster_8)}, name='8')], axis=1)"
   ]
  },
  {
   "cell_type": "code",
   "execution_count": 50,
   "id": "1fdf8f87",
   "metadata": {},
   "outputs": [
    {
     "data": {
      "text/html": [
       "<div>\n",
       "<style scoped>\n",
       "    .dataframe tbody tr th:only-of-type {\n",
       "        vertical-align: middle;\n",
       "    }\n",
       "\n",
       "    .dataframe tbody tr th {\n",
       "        vertical-align: top;\n",
       "    }\n",
       "\n",
       "    .dataframe thead th {\n",
       "        text-align: right;\n",
       "    }\n",
       "</style>\n",
       "<table border=\"1\" class=\"dataframe\">\n",
       "  <thead>\n",
       "    <tr style=\"text-align: right;\">\n",
       "      <th></th>\n",
       "      <th>KMeans</th>\n",
       "      <th>AGG</th>\n",
       "      <th>GMM</th>\n",
       "    </tr>\n",
       "  </thead>\n",
       "  <tbody>\n",
       "    <tr>\n",
       "      <th>4</th>\n",
       "      <td>0.930630</td>\n",
       "      <td>0.937445</td>\n",
       "      <td>0.981978</td>\n",
       "    </tr>\n",
       "    <tr>\n",
       "      <th>5</th>\n",
       "      <td>0.963713</td>\n",
       "      <td>0.935859</td>\n",
       "      <td>0.971968</td>\n",
       "    </tr>\n",
       "    <tr>\n",
       "      <th>8</th>\n",
       "      <td>0.887255</td>\n",
       "      <td>0.942869</td>\n",
       "      <td>1.154805</td>\n",
       "    </tr>\n",
       "  </tbody>\n",
       "</table>\n",
       "</div>"
      ],
      "text/plain": [
       "     KMeans       AGG       GMM\n",
       "4  0.930630  0.937445  0.981978\n",
       "5  0.963713  0.935859  0.971968\n",
       "8  0.887255  0.942869  1.154805"
      ]
     },
     "execution_count": 50,
     "metadata": {},
     "output_type": "execute_result"
    }
   ],
   "source": [
    "DB.T"
   ]
  },
  {
   "cell_type": "code",
   "execution_count": 61,
   "id": "8a581e42",
   "metadata": {},
   "outputs": [],
   "source": [
    "from matplotlib import pyplot as plt\n",
    "import seaborn as sns\n"
   ]
  },
  {
   "cell_type": "code",
   "execution_count": 103,
   "id": "2f4a26d3",
   "metadata": {},
   "outputs": [
    {
     "data": {
      "image/png": "[encoded data removed]",
      "text/plain": [
       "<Figure size 576x432 with 1 Axes>"
      ]
     },
     "metadata": {
      "needs_background": "light"
     },
     "output_type": "display_data"
    }
   ],
   "source": [
    "#DB[\"4\"].values\n",
    "I = ['4','5','8']\n",
    "M4 = [0.930630,0.9637131, 0.887255]\n",
    "M5 = [0.937445,0.935859,0.942869]\n",
    "M8 = [0.981978, 0.971968,  1.154805]\n",
    "X_axis = np.arange(len(I))\n",
    "plt.figure(figsize=[8,6])  \n",
    "plt.bar(X_axis - 0.3, M4, 0.2, label = 'KM')\n",
    "plt.bar(X_axis , M5, 0.2, label = 'AGG')\n",
    "plt.bar(X_axis + 0.3, M8, 0.2, label = 'GMM')  \n",
    "plt.xticks(X_axis, I)\n",
    "plt.xlabel(\"Clusters\")\n",
    "plt.ylabel(\"DBI\")\n",
    "plt.title(\"Davie-bouldin score\")\n",
    "plt.grid(b=None)\n",
    "plt.legend()\n",
    "plt.show()\n"
   ]
  },
  {
   "cell_type": "markdown",
   "id": "0ac95652",
   "metadata": {},
   "source": [
    "###### calinski_harabasz_score for different clusters and different algorithms"
   ]
  },
  {
   "cell_type": "code",
   "execution_count": 51,
   "id": "a8365d69",
   "metadata": {},
   "outputs": [],
   "source": [
    "CHS = pd.DataFrame(pd.Series({\"KMeans\": calinski_harabasz_score(X, km_cluster_4), \"AGG\": calinski_harabasz_score(X, agg_cluster_4), \"GMM\": calinski_harabasz_score(X, gmm_cluster_4)}, name='4'))\n",
    "CHS = pd.concat([CHS, pd.Series({\"KMeans\": calinski_harabasz_score(X, km_cluster_5), \"AGG\": calinski_harabasz_score(X, agg_cluster_5), \"GMM\": calinski_harabasz_score(X, gmm_cluster_5)}, name='5')], axis=1)\n",
    "CHS = pd.concat([CHS, pd.Series({\"KMeans\": calinski_harabasz_score(X, km_cluster_8), \"AGG\": calinski_harabasz_score(X, agg_cluster_8), \"GMM\": calinski_harabasz_score(X, gmm_cluster_8)}, name='8')], axis=1)"
   ]
  },
  {
   "cell_type": "code",
   "execution_count": 52,
   "id": "b4a3f219",
   "metadata": {},
   "outputs": [
    {
     "data": {
      "text/html": [
       "<div>\n",
       "<style scoped>\n",
       "    .dataframe tbody tr th:only-of-type {\n",
       "        vertical-align: middle;\n",
       "    }\n",
       "\n",
       "    .dataframe tbody tr th {\n",
       "        vertical-align: top;\n",
       "    }\n",
       "\n",
       "    .dataframe thead th {\n",
       "        text-align: right;\n",
       "    }\n",
       "</style>\n",
       "<table border=\"1\" class=\"dataframe\">\n",
       "  <thead>\n",
       "    <tr style=\"text-align: right;\">\n",
       "      <th></th>\n",
       "      <th>KMeans</th>\n",
       "      <th>AGG</th>\n",
       "      <th>GMM</th>\n",
       "    </tr>\n",
       "  </thead>\n",
       "  <tbody>\n",
       "    <tr>\n",
       "      <th>4</th>\n",
       "      <td>284.042615</td>\n",
       "      <td>269.284744</td>\n",
       "      <td>259.581544</td>\n",
       "    </tr>\n",
       "    <tr>\n",
       "      <th>5</th>\n",
       "      <td>253.369685</td>\n",
       "      <td>239.669602</td>\n",
       "      <td>234.842364</td>\n",
       "    </tr>\n",
       "    <tr>\n",
       "      <th>8</th>\n",
       "      <td>253.597956</td>\n",
       "      <td>229.370919</td>\n",
       "      <td>169.151654</td>\n",
       "    </tr>\n",
       "  </tbody>\n",
       "</table>\n",
       "</div>"
      ],
      "text/plain": [
       "       KMeans         AGG         GMM\n",
       "4  284.042615  269.284744  259.581544\n",
       "5  253.369685  239.669602  234.842364\n",
       "8  253.597956  229.370919  169.151654"
      ]
     },
     "execution_count": 52,
     "metadata": {},
     "output_type": "execute_result"
    }
   ],
   "source": [
    "CHS.T"
   ]
  },
  {
   "cell_type": "code",
   "execution_count": 102,
   "id": "c334e14d",
   "metadata": {},
   "outputs": [
    {
     "data": {
      "image/png": "[encoded data removed]",
      "text/plain": [
       "<Figure size 576x432 with 1 Axes>"
      ]
     },
     "metadata": {
      "needs_background": "light"
     },
     "output_type": "display_data"
    }
   ],
   "source": [
    "#DB[\"4\"].values\n",
    "I = ['4','5','8']\n",
    "M4 = [284.042615,253.369685, 259.581544]\n",
    "M5 = [269.284744,239.669602,234.842364]\n",
    "M8 = [259.581544, 229.370919, 169.151654]\n",
    "X_axis = np.arange(len(I))\n",
    "plt.figure(figsize=[8,6])\n",
    "plt.bar(X_axis - 0.3, M4, 0.2, label = 'KM')\n",
    "plt.bar(X_axis , M5, 0.2, label = 'AGG')\n",
    "plt.bar(X_axis + 0.3, M8, 0.2, label = 'GMM')  \n",
    "plt.xticks(X_axis, I)\n",
    "plt.xlabel(\"Clusters\")\n",
    "plt.ylabel(\"CHI\")\n",
    "plt.title(\"Calinski harabasz_score\")\n",
    "plt.grid(b=None)\n",
    "plt.legend()\n",
    "plt.show()"
   ]
  },
  {
   "cell_type": "code",
   "execution_count": 53,
   "id": "55aa4952",
   "metadata": {},
   "outputs": [],
   "source": [
    "SS = pd.DataFrame(pd.Series({\"KMeans\": silhouette_score(X, km_cluster_4), \"AGG\": silhouette_score(X, agg_cluster_4), \"GMM\": silhouette_score(X, gmm_cluster_4)}, name='4'))\n",
    "SS= pd.concat([SS, pd.Series({\"KMeans\": silhouette_score(X, km_cluster_5), \"AGG\": silhouette_score(X, agg_cluster_5), \"GMM\": silhouette_score(X, gmm_cluster_5)}, name='5')], axis=1)\n",
    "SS= pd.concat([SS, pd.Series({\"KMeans\": silhouette_score(X, km_cluster_8), \"AGG\": silhouette_score(X, agg_cluster_8), \"GMM\": silhouette_score(X, gmm_cluster_8)}, name='8')], axis=1)"
   ]
  },
  {
   "cell_type": "code",
   "execution_count": 54,
   "id": "7fe879d3",
   "metadata": {},
   "outputs": [
    {
     "data": {
      "text/html": [
       "<div>\n",
       "<style scoped>\n",
       "    .dataframe tbody tr th:only-of-type {\n",
       "        vertical-align: middle;\n",
       "    }\n",
       "\n",
       "    .dataframe tbody tr th {\n",
       "        vertical-align: top;\n",
       "    }\n",
       "\n",
       "    .dataframe thead th {\n",
       "        text-align: right;\n",
       "    }\n",
       "</style>\n",
       "<table border=\"1\" class=\"dataframe\">\n",
       "  <thead>\n",
       "    <tr style=\"text-align: right;\">\n",
       "      <th></th>\n",
       "      <th>KMeans</th>\n",
       "      <th>AGG</th>\n",
       "      <th>GMM</th>\n",
       "    </tr>\n",
       "  </thead>\n",
       "  <tbody>\n",
       "    <tr>\n",
       "      <th>4</th>\n",
       "      <td>0.398601</td>\n",
       "      <td>0.386759</td>\n",
       "      <td>0.375977</td>\n",
       "    </tr>\n",
       "    <tr>\n",
       "      <th>5</th>\n",
       "      <td>0.353303</td>\n",
       "      <td>0.358713</td>\n",
       "      <td>0.331879</td>\n",
       "    </tr>\n",
       "    <tr>\n",
       "      <th>8</th>\n",
       "      <td>0.391712</td>\n",
       "      <td>0.349142</td>\n",
       "      <td>0.286794</td>\n",
       "    </tr>\n",
       "  </tbody>\n",
       "</table>\n",
       "</div>"
      ],
      "text/plain": [
       "     KMeans       AGG       GMM\n",
       "4  0.398601  0.386759  0.375977\n",
       "5  0.353303  0.358713  0.331879\n",
       "8  0.391712  0.349142  0.286794"
      ]
     },
     "execution_count": 54,
     "metadata": {},
     "output_type": "execute_result"
    }
   ],
   "source": [
    "SS.T"
   ]
  },
  {
   "cell_type": "code",
   "execution_count": 101,
   "id": "7bc6d620",
   "metadata": {},
   "outputs": [
    {
     "data": {
      "image/png": "[encoded data removed]",
      "text/plain": [
       "<Figure size 576x432 with 1 Axes>"
      ]
     },
     "metadata": {
      "needs_background": "light"
     },
     "output_type": "display_data"
    }
   ],
   "source": [
    "I = ['4','5','8']\n",
    "M4 = [0.398601,0.353303, 0.391712]\n",
    "M5 = [0.386759,0.358713\t,0.349142]\n",
    "M8 = [0.375977, 0.331879, 0.286794]\n",
    "X_axis = np.arange(len(I))\n",
    "plt.figure(figsize=[8,6])\n",
    "plt.bar(X_axis - 0.3, M4, 0.2, label = 'KM')\n",
    "plt.bar(X_axis , M5, 0.2, label = 'AGG')\n",
    "plt.bar(X_axis + 0.3, M8, 0.2, label = 'GMM')  \n",
    "plt.xticks(X_axis, I)\n",
    "plt.xlabel(\"Clusters\")\n",
    "plt.ylabel(\"SS\")\n",
    "plt.title(\"Silouette score\")\n",
    "plt.grid(b=None)\n",
    "plt.legend()\n",
    "plt.show()"
   ]
  },
  {
   "cell_type": "markdown",
   "id": "0b9393a1",
   "metadata": {},
   "source": [
    "#### Saving the dataset\n"
   ]
  },
  {
   "cell_type": "code",
   "execution_count": 75,
   "id": "baf8a0f2",
   "metadata": {},
   "outputs": [],
   "source": [
    "data.to_csv(\"BA_dataset.csv\")"
   ]
  },
  {
   "cell_type": "markdown",
   "id": "722839f4",
   "metadata": {},
   "source": [
    "#### Saving the model"
   ]
  },
  {
   "cell_type": "code",
   "execution_count": 73,
   "id": "49bbcc08",
   "metadata": {},
   "outputs": [],
   "source": [
    "KM_new = {\"recommender_4\": km_4,\"recommender_8\": km_8, \"le_values\": le_values, \"le_cat\": le_cat, \"le_lod\": le_lod, \"le_rm\": le_rm}\n",
    "with open('saved_steps_new.pkl', 'wb') as file:\n",
    "    pickle.dump(KM_new, file)"
   ]
  },
  {
   "cell_type": "code",
   "execution_count": 126,
   "id": "c9f7f23b",
   "metadata": {},
   "outputs": [],
   "source": [
    "with open('saved_steps.pkl', 'rb') as file:\n",
    "    KM = pickle.load(file)\n",
    "    \n",
    "    "
   ]
  }
 ],
 "metadata": {
  "kernelspec": {
   "display_name": "Python 3 (ipykernel)",
   "language": "python",
   "name": "python3"
  },
  "language_info": {
   "codemirror_mode": {
    "name": "ipython",
    "version": 3
   },
   "file_extension": ".py",
   "mimetype": "text/x-python",
   "name": "python",
   "nbconvert_exporter": "python",
   "pygments_lexer": "ipython3",
   "version": "3.10.4"
  }
 },
 "nbformat": 4,
 "nbformat_minor": 5
}
